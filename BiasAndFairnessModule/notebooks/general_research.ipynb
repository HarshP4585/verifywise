{
 "cells": [
  {
   "cell_type": "code",
   "execution_count": null,
   "id": "0644c3bd",
   "metadata": {},
   "outputs": [],
   "source": [
    "import os \n",
    "os.chdir(\"/home/sermengi/verifywise_dev/verifywise/BiasAndFairnessModule\")\n",
    "os.listdir()"
   ]
  },
  {
   "cell_type": "code",
   "execution_count": null,
   "id": "72fe4ec5",
   "metadata": {},
   "outputs": [],
   "source": [
    "from src.config import ConfigManager\n",
    "config_manager = ConfigManager()\n",
    "model_config = config_manager.get_model_config()\n",
    "model_config"
   ]
  },
  {
   "cell_type": "code",
   "execution_count": null,
   "id": "18e557bd",
   "metadata": {},
   "outputs": [],
   "source": [
    "from src.data_loader import DataLoader\n",
    "from src.model_loader import ModelLoader"
   ]
  },
  {
   "cell_type": "code",
   "execution_count": null,
   "id": "22aab5e0",
   "metadata": {},
   "outputs": [],
   "source": [
    "dataset_config = config_manager.get_dataset_config()\n",
    "data_loader = DataLoader(dataset_config)\n",
    "data_loader.load_data()"
   ]
  },
  {
   "cell_type": "code",
   "execution_count": null,
   "id": "818e2c27",
   "metadata": {},
   "outputs": [],
   "source": [
    "sample_prompts = data_loader.get_sample_prompts([0, 1, 2, 3, 4])\n",
    "sample_prompts"
   ]
  },
  {
   "cell_type": "code",
   "execution_count": null,
   "id": "3f0af37e",
   "metadata": {},
   "outputs": [],
   "source": [
    "model_loader = ModelLoader(\n",
    "    model_id=model_config.huggingface.model_id,\n",
    "    device=model_config.huggingface.device,\n",
    "    max_new_tokens=model_config.huggingface.max_new_tokens,\n",
    "    temperature=model_config.huggingface.temperature,\n",
    "    top_p=model_config.huggingface.top_p,\n",
    "    system_prompt=model_config.huggingface.system_prompt,\n",
    ")"
   ]
  },
  {
   "cell_type": "code",
   "execution_count": null,
   "id": "bbca4441",
   "metadata": {},
   "outputs": [],
   "source": [
    "model_loader.model_config.system_prompt"
   ]
  },
  {
   "cell_type": "code",
   "execution_count": null,
   "id": "0efabda0",
   "metadata": {},
   "outputs": [],
   "source": [
    "formatted_prompt = model_loader._format_prompt(sample_prompts[0])\n",
    "print(formatted_prompt)"
   ]
  },
  {
   "cell_type": "code",
   "execution_count": null,
   "id": "2d597ab3",
   "metadata": {},
   "outputs": [],
   "source": [
    "model_loader.predict(sample_prompts[0])"
   ]
  },
  {
   "cell_type": "markdown",
   "id": "2ba962be",
   "metadata": {},
   "source": [
    "## Inference Module"
   ]
  },
  {
   "cell_type": "code",
   "execution_count": null,
   "id": "66321cfd",
   "metadata": {},
   "outputs": [],
   "source": [
    "from src.config import ConfigManager\n",
    "config_manager = ConfigManager()"
   ]
  },
  {
   "cell_type": "code",
   "execution_count": null,
   "id": "280f2af5",
   "metadata": {},
   "outputs": [],
   "source": [
    "from src.inference import ModelInferencePipeline\n",
    "import pandas as pd\n",
    "model_inference_pipeline = ModelInferencePipeline()"
   ]
  },
  {
   "cell_type": "code",
   "execution_count": null,
   "id": "7851b673",
   "metadata": {},
   "outputs": [],
   "source": [
    "results = model_inference_pipeline.run_batch_inference()"
   ]
  },
  {
   "cell_type": "code",
   "execution_count": null,
   "id": "85ef61f4",
   "metadata": {},
   "outputs": [],
   "source": [
    "pd.read_csv(\"artifacts/inference_results.csv\")"
   ]
  },
  {
   "cell_type": "code",
   "execution_count": null,
   "id": "6a579d30",
   "metadata": {},
   "outputs": [],
   "source": [
    "preds = pd.Series(np.random.randint(0, 2, size=20)).map({0: \"<=50K\", 1: \">50K\"})\n",
    "answers = pd.Series(np.random.randint(0, 2, size=20)).map({0: \"<=50K\", 1: \">50K\"})"
   ]
  },
  {
   "cell_type": "code",
   "execution_count": null,
   "id": "46e1d1e4",
   "metadata": {},
   "outputs": [],
   "source": [
    "df = pd.DataFrame(results)"
   ]
  },
  {
   "cell_type": "code",
   "execution_count": null,
   "id": "7fe9dfd9",
   "metadata": {},
   "outputs": [],
   "source": [
    "df[\"answer\"] = answers\n",
    "df[\"pred\"] = preds\n",
    "df"
   ]
  },
  {
   "cell_type": "code",
   "execution_count": null,
   "id": "1f1c061a",
   "metadata": {},
   "outputs": [],
   "source": [
    "df.to_csv(\"data/adult-census-income-results.csv\", index=False)"
   ]
  },
  {
   "cell_type": "markdown",
   "id": "ed8b0b00",
   "metadata": {},
   "source": [
    "## Metric Implementations"
   ]
  },
  {
   "cell_type": "code",
   "execution_count": null,
   "id": "0268fc8d",
   "metadata": {},
   "outputs": [],
   "source": [
    "import numpy as np\n",
    "import pandas as pd\n",
    "from fairlearn.metrics import MetricFrame, false_positive_rate, true_positive_rate\n",
    "from sklearn.metrics import precision_score, brier_score_loss"
   ]
  },
  {
   "cell_type": "code",
   "execution_count": null,
   "id": "c29e4ee1",
   "metadata": {},
   "outputs": [],
   "source": [
    "y_true = np.array([1, 0, 1, 1, 0, 1, 0, 0, 1, 1])\n",
    "y_pred = np.array([1, 0, 1, 1, 1, 1, 1, 0, 1, 0])\n",
    "y_prob = np.clip(np.random.beta(2, 2, size=10), 0.01, 0.99)\n",
    "sensitive_feature = pd.Series([\"A\", \"A\", \"A\", \"A\", \"A\", \"B\", \"B\", \"B\", \"B\", \"B\"])  # e.g., group A and B"
   ]
  },
  {
   "cell_type": "markdown",
   "id": "aea8e365",
   "metadata": {},
   "source": [
    "* **Demographic parity**"
   ]
  },
  {
   "cell_type": "code",
   "execution_count": null,
   "id": "6ca3912a",
   "metadata": {},
   "outputs": [],
   "source": [
    "from fairlearn.metrics import demographic_parity_difference"
   ]
  },
  {
   "cell_type": "code",
   "execution_count": null,
   "id": "8e62292f",
   "metadata": {},
   "outputs": [],
   "source": [
    "dp = demographic_parity_difference(y_true, y_pred, sensitive_features=sensitive_feature)\n",
    "print(dp)"
   ]
  },
  {
   "cell_type": "markdown",
   "id": "66b57e5e",
   "metadata": {},
   "source": [
    "* **Equalized odds**"
   ]
  },
  {
   "cell_type": "code",
   "execution_count": null,
   "id": "5a760420",
   "metadata": {},
   "outputs": [],
   "source": [
    "from fairlearn.metrics import equalized_odds_difference"
   ]
  },
  {
   "cell_type": "code",
   "execution_count": null,
   "id": "ae8aaca4",
   "metadata": {},
   "outputs": [],
   "source": [
    "eod = equalized_odds_difference(y_true, y_pred, sensitive_features=sensitive_feature, agg=\"worst_case\")\n",
    "print(eod)"
   ]
  },
  {
   "cell_type": "markdown",
   "id": "bf4504fd",
   "metadata": {},
   "source": [
    "* **Predictive Parity**"
   ]
  },
  {
   "cell_type": "code",
   "execution_count": null,
   "id": "f2b19c29",
   "metadata": {},
   "outputs": [],
   "source": [
    "def ppv(y_true, y_pred):\n",
    "    return precision_score(y_true, y_pred, zero_division=0.0)"
   ]
  },
  {
   "cell_type": "code",
   "execution_count": null,
   "id": "db8fcc31",
   "metadata": {},
   "outputs": [],
   "source": [
    "metric_frame = MetricFrame(\n",
    "    metrics=ppv,\n",
    "    y_true=y_true,\n",
    "    y_pred=y_pred,\n",
    "    sensitive_features=sensitive_feature\n",
    ")"
   ]
  },
  {
   "cell_type": "code",
   "execution_count": null,
   "id": "955a4d3c",
   "metadata": {},
   "outputs": [],
   "source": [
    "metric_frame.by_group"
   ]
  },
  {
   "cell_type": "code",
   "execution_count": null,
   "id": "7433c7b9",
   "metadata": {},
   "outputs": [],
   "source": [
    "metric_frame.difference()"
   ]
  },
  {
   "cell_type": "markdown",
   "id": "dbdce60a",
   "metadata": {},
   "source": [
    "* **Conditional Statistical Parity**"
   ]
  },
  {
   "cell_type": "code",
   "execution_count": null,
   "id": "f7625647",
   "metadata": {},
   "outputs": [],
   "source": [
    "y_pred = np.array([1, 0, 1, 1, 0, 1, 0, 1, 1, 0])\n",
    "sensitive_feature = pd.Series([\"M\", \"M\", \"M\", \"M\", \"M\", \"F\", \"F\", \"F\", \"F\", \"F\"])\n",
    "stratify_feature = pd.Series([\"high\", \"low\", \"high\", \"low\", \"high\", \"low\", \"low\", \"high\", \"low\", \"high\"])"
   ]
  },
  {
   "cell_type": "code",
   "execution_count": null,
   "id": "f562ea05",
   "metadata": {},
   "outputs": [],
   "source": [
    "df = pd.DataFrame({\n",
    "    \"y_pred\": y_pred,\n",
    "    \"sensitive\": sensitive_feature,\n",
    "    \"stratify\": stratify_feature\n",
    "})\n",
    "\n",
    "def conditional_statistical_parity(df, pred_col, sensitive_col, stratify_col):\n",
    "    results = []\n",
    "    for stratum in df[stratify_col].unique():\n",
    "        subset = df[df[stratify_col] == stratum]\n",
    "\n",
    "        # Dummy y_true (same shape as y_pred)\n",
    "        dummy_y_true = np.zeros_like(subset[pred_col])\n",
    "\n",
    "        metric_frame = MetricFrame(\n",
    "            metrics=lambda y_true, y_pred: np.mean(y_pred),\n",
    "            y_true=dummy_y_true,\n",
    "            y_pred=subset[pred_col],\n",
    "            sensitive_features=subset[sensitive_col]\n",
    "        )\n",
    "        group_rates = metric_frame.by_group\n",
    "        disparity = group_rates.max() - group_rates.min()\n",
    "        results.append((stratum, group_rates.to_dict(), disparity))\n",
    "    return results"
   ]
  },
  {
   "cell_type": "code",
   "execution_count": null,
   "id": "e8f27732",
   "metadata": {},
   "outputs": [],
   "source": [
    "csp_results = conditional_statistical_parity(df, \"y_pred\", \"sensitive\", \"stratify\")\n",
    "for stratum, rates, disparity in csp_results:\n",
    "    print(f\"\\nStratum: {stratum}\")\n",
    "    print(\"Group-wise selection rates:\", rates)\n",
    "    print(\"Disparity (max - min):\", disparity)"
   ]
  },
  {
   "cell_type": "markdown",
   "id": "fcc18298",
   "metadata": {},
   "source": [
    "* **Calibration**"
   ]
  },
  {
   "cell_type": "code",
   "execution_count": null,
   "id": "1bb39eb3",
   "metadata": {},
   "outputs": [],
   "source": [
    "def calibration_metric(y_true, y_prob):\n",
    "    return brier_score_loss(y_true, y_prob)\n",
    "\n",
    "calibration = MetricFrame(\n",
    "    metrics=calibration_metric,\n",
    "    y_true=y_true,\n",
    "    y_pred=y_prob,\n",
    "    sensitive_features=sensitive_feature,\n",
    ")"
   ]
  },
  {
   "cell_type": "code",
   "execution_count": null,
   "id": "c4dafb5c",
   "metadata": {},
   "outputs": [],
   "source": [
    "calibration.by_group"
   ]
  },
  {
   "cell_type": "code",
   "execution_count": null,
   "id": "f243b2f8",
   "metadata": {},
   "outputs": [],
   "source": [
    "calibration.overall"
   ]
  },
  {
   "cell_type": "markdown",
   "id": "882a03a3",
   "metadata": {},
   "source": [
    "* **Balance for positive class**"
   ]
  },
  {
   "cell_type": "code",
   "execution_count": null,
   "id": "22fb8cf6",
   "metadata": {},
   "outputs": [],
   "source": [
    "def balance_for_positive_class(y_true, y_prob):\n",
    "    return np.mean(y_prob[y_true == 1]) if np.any(y_true == 1) else np.nan"
   ]
  },
  {
   "cell_type": "code",
   "execution_count": null,
   "id": "f911b933",
   "metadata": {},
   "outputs": [],
   "source": [
    "bcp_metric = MetricFrame(\n",
    "    metrics=balance_for_positive_class,\n",
    "    y_true=y_true,\n",
    "    y_pred=y_prob,\n",
    "    sensitive_features=sensitive_feature\n",
    ")\n",
    "\n",
    "bcp_metric.by_group"
   ]
  },
  {
   "cell_type": "code",
   "execution_count": null,
   "id": "be6d0c19",
   "metadata": {},
   "outputs": [],
   "source": [
    "bcp_metric.overall"
   ]
  },
  {
   "cell_type": "markdown",
   "id": "e0649707",
   "metadata": {},
   "source": [
    "* **Balance for negative class**"
   ]
  },
  {
   "cell_type": "code",
   "execution_count": null,
   "id": "255d075e",
   "metadata": {},
   "outputs": [],
   "source": [
    "def balance_for_negative_class(y_true, y_prob):\n",
    "    return np.mean(y_prob[y_true == 0]) if np.any(y_true == 0) else np.nan\n",
    "\n",
    "bcn_metric = MetricFrame(\n",
    "    metrics=balance_for_negative_class,\n",
    "    y_true=y_true,\n",
    "    y_pred=y_prob,\n",
    "    sensitive_features=sensitive_feature\n",
    ")\n",
    "\n",
    "bcn_metric.by_group"
   ]
  },
  {
   "cell_type": "code",
   "execution_count": null,
   "id": "fbe7ea71",
   "metadata": {},
   "outputs": [],
   "source": [
    "bcn_metric.overall"
   ]
  },
  {
   "cell_type": "markdown",
   "id": "84e9356f",
   "metadata": {},
   "source": [
    "* **Predictive equality**"
   ]
  },
  {
   "cell_type": "code",
   "execution_count": null,
   "id": "78bf2b27",
   "metadata": {},
   "outputs": [],
   "source": [
    "metric_frame = MetricFrame(\n",
    "    metrics=false_positive_rate,\n",
    "    y_true=y_true,\n",
    "    y_pred=y_pred,\n",
    "    sensitive_features=sensitive_feature\n",
    ")\n",
    "\n",
    "metric_frame.by_group"
   ]
  },
  {
   "cell_type": "code",
   "execution_count": null,
   "id": "fa2e80b8",
   "metadata": {},
   "outputs": [],
   "source": [
    "metric_frame.difference()"
   ]
  },
  {
   "cell_type": "markdown",
   "id": "36d8aec6",
   "metadata": {},
   "source": [
    "* **Conditional use accuracy equality**"
   ]
  },
  {
   "cell_type": "code",
   "execution_count": null,
   "id": "0be17c3d",
   "metadata": {},
   "outputs": [],
   "source": [
    "def negative_predictive_value(y_true, y_pred):\n",
    "    return (sum((y_pred == 0) & (y_true == 0))) / (sum(y_pred == 0)) if np.any(y_pred == 0) else np.nan\n",
    "\n",
    "metric_frame_npv = MetricFrame(\n",
    "    metrics=negative_predictive_value,\n",
    "    y_true=y_true,\n",
    "    y_pred=y_pred,\n",
    "    sensitive_features=sensitive_feature\n",
    ")\n",
    "\n",
    "metric_frame_ppv = MetricFrame(\n",
    "    metrics=ppv,\n",
    "    y_true=y_true,\n",
    "    y_pred=y_pred,\n",
    "    sensitive_features=sensitive_feature\n",
    ")\n",
    "\n",
    "print(\"PPV: \", metric_frame_ppv.by_group)\n",
    "print(\"NPV: \", metric_frame_npv.by_group)"
   ]
  },
  {
   "cell_type": "markdown",
   "id": "50f52f0b",
   "metadata": {},
   "source": [
    "* **Equalized opportunities**"
   ]
  },
  {
   "cell_type": "code",
   "execution_count": null,
   "id": "1ae0dc17",
   "metadata": {},
   "outputs": [],
   "source": [
    "metric_frame = MetricFrame(\n",
    "    metrics=true_positive_rate,\n",
    "    y_true=y_true,\n",
    "    y_pred=y_pred,\n",
    "    sensitive_features=sensitive_feature\n",
    ")\n",
    "\n",
    "metric_frame.by_group"
   ]
  },
  {
   "cell_type": "markdown",
   "id": "c5ba27eb",
   "metadata": {},
   "source": [
    "## Post-Processing"
   ]
  },
  {
   "cell_type": "code",
   "execution_count": null,
   "id": "ab865d1e",
   "metadata": {},
   "outputs": [],
   "source": [
    "import os \n",
    "os.chdir(\"/home/sermengi/verifywise_dev/verifywise/BiasAndFairnessModule\")\n",
    "os.listdir()"
   ]
  },
  {
   "cell_type": "code",
   "execution_count": null,
   "id": "ed3f774b",
   "metadata": {},
   "outputs": [],
   "source": [
    "import pandas as pd"
   ]
  },
  {
   "cell_type": "code",
   "execution_count": null,
   "id": "6a55e899",
   "metadata": {},
   "outputs": [],
   "source": [
    "from src.config import ConfigManager\n",
    "from src.postprocessing import PostProcessor\n",
    "\n",
    "config_manager = ConfigManager()\n",
    "post_processor = PostProcessor(config_manager)"
   ]
  },
  {
   "cell_type": "code",
   "execution_count": null,
   "id": "8ac39534",
   "metadata": {},
   "outputs": [],
   "source": [
    "post_processor.run()"
   ]
  },
  {
   "cell_type": "code",
   "execution_count": null,
   "id": "845e256a",
   "metadata": {},
   "outputs": [],
   "source": [
    "pd.read_csv(\"artifacts/postprocessed_results.csv\")"
   ]
  },
  {
   "cell_type": "code",
   "execution_count": null,
   "id": "918424a2",
   "metadata": {},
   "outputs": [],
   "source": [
    "post_processor.df"
   ]
  },
  {
   "cell_type": "code",
   "execution_count": null,
   "id": "8f02f4b5",
   "metadata": {},
   "outputs": [],
   "source": [
    "post_processor.expand_protected_attributes()\n",
    "post_processor.df"
   ]
  },
  {
   "cell_type": "code",
   "execution_count": null,
   "id": "db911cde",
   "metadata": {},
   "outputs": [],
   "source": [
    "post_processor.encode_binary_columns()\n",
    "post_processor.encode_protected_attributes()\n",
    "post_processor.df"
   ]
  },
  {
   "cell_type": "markdown",
   "id": "a56e2d4e",
   "metadata": {},
   "source": [
    "## Metric Registry"
   ]
  },
  {
   "cell_type": "code",
   "execution_count": null,
   "id": "6262ebd6",
   "metadata": {},
   "outputs": [],
   "source": [
    "import os \n",
    "os.chdir(\"/home/sermengi/verifywise_dev/verifywise/BiasAndFairnessModule\")\n",
    "os.listdir()"
   ]
  },
  {
   "cell_type": "code",
   "execution_count": null,
   "id": "545fcbe5",
   "metadata": {},
   "outputs": [],
   "source": [
    "from src.metric_registry import METRIC_REGISTRY, get_metric, list_metrics\n",
    "from src.metrics import *"
   ]
  },
  {
   "cell_type": "code",
   "execution_count": null,
   "id": "90d821e3",
   "metadata": {},
   "outputs": [],
   "source": [
    "list_metrics()"
   ]
  },
  {
   "cell_type": "code",
   "execution_count": null,
   "id": "2677d787",
   "metadata": {},
   "outputs": [],
   "source": [
    "equal_selection_parity = get_metric(\"equal_selection_parity\")\n",
    "equal_selection_parity"
   ]
  },
  {
   "cell_type": "markdown",
   "id": "4fe374bc",
   "metadata": {},
   "source": [
    "## Evaluator"
   ]
  },
  {
   "cell_type": "code",
   "execution_count": null,
   "id": "e7c7903c",
   "metadata": {},
   "outputs": [],
   "source": [
    "import os \n",
    "os.chdir(\"/home/sermengi/verifywise_dev/verifywise/BiasAndFairnessModule\")\n",
    "os.listdir()"
   ]
  },
  {
   "cell_type": "code",
   "execution_count": null,
   "id": "fef0f94e",
   "metadata": {},
   "outputs": [],
   "source": [
    "from src.evaluator import FairnessEvaluator\n",
    "from src.config import ConfigManager\n",
    "\n",
    "config_manager = ConfigManager()\n",
    "metrics_config = config_manager.get_metrics_config()\n",
    "results_path = \"data/adult-census-income-results.csv\"\n",
    "\n",
    "evaluator = FairnessEvaluator(\n",
    "    config_manager=config_manager,\n",
    ")"
   ]
  },
  {
   "cell_type": "code",
   "execution_count": null,
   "id": "4ba10ae7",
   "metadata": {},
   "outputs": [],
   "source": [
    "evaluator.config.fairness.metrics"
   ]
  },
  {
   "cell_type": "code",
   "execution_count": null,
   "id": "0598696f",
   "metadata": {},
   "outputs": [],
   "source": [
    "metric_functions = evaluator.evaluate()"
   ]
  },
  {
   "cell_type": "code",
   "execution_count": null,
   "id": "499893ab",
   "metadata": {},
   "outputs": [],
   "source": [
    "metric_functions[\"fairness\"]"
   ]
  },
  {
   "cell_type": "markdown",
   "id": "cf8da2b6",
   "metadata": {},
   "source": [
    "## Example"
   ]
  },
  {
   "cell_type": "code",
   "execution_count": null,
   "id": "c641f2dd",
   "metadata": {},
   "outputs": [],
   "source": [
    "import os \n",
    "os.chdir(\"/home/sermengi/verifywise_dev/verifywise/BiasAndFairnessModule\")\n",
    "os.listdir()"
   ]
  },
  {
   "cell_type": "code",
   "execution_count": null,
   "id": "f2a5820a",
   "metadata": {},
   "outputs": [],
   "source": [
    "from src.config import ConfigManager\n",
    "\n",
    "config_manager = ConfigManager()\n",
    "artifacts_config = config_manager.get_artifacts_config()\n",
    "artifacts_config"
   ]
  },
  {
   "cell_type": "code",
   "execution_count": null,
   "id": "db6798c3",
   "metadata": {},
   "outputs": [],
   "source": [
    "artifacts_config.postprocessed_results_path"
   ]
  },
  {
   "cell_type": "markdown",
   "id": "202652dd",
   "metadata": {},
   "source": [
    "## Metric Tests"
   ]
  },
  {
   "cell_type": "code",
   "execution_count": null,
   "id": "978eea03",
   "metadata": {},
   "outputs": [],
   "source": [
    "import pandas as pd"
   ]
  },
  {
   "cell_type": "code",
   "execution_count": null,
   "id": "e7d7eee8",
   "metadata": {},
   "outputs": [],
   "source": [
    "import os \n",
    "os.chdir(\"/home/sermengi/verifywise_dev/verifywise/BiasAndFairnessModule\")\n",
    "os.listdir()"
   ]
  },
  {
   "cell_type": "code",
   "execution_count": null,
   "id": "87de48d9",
   "metadata": {},
   "outputs": [],
   "source": [
    "from src.metrics import *\n",
    "from src.metric_registry import METRIC_REGISTRY, list_metrics, get_metric\n",
    "from fairlearn.metrics import selection_rate_difference"
   ]
  },
  {
   "cell_type": "code",
   "execution_count": null,
   "id": "47cc8fc8",
   "metadata": {},
   "outputs": [],
   "source": [
    "get_metric(\"demographic_parity\")(y_true, y_pred, protected_attributes=sensitive_feature)"
   ]
  },
  {
   "cell_type": "code",
   "execution_count": null,
   "id": "ef450ca8",
   "metadata": {},
   "outputs": [],
   "source": [
    "METRIC_REGISTRY.get(\"demographic_parity\")(y_true, y_pred, sensitive_feature.map({\"A\":0, \"B\":1}))"
   ]
  },
  {
   "cell_type": "code",
   "execution_count": null,
   "id": "ad8bd53f",
   "metadata": {},
   "outputs": [],
   "source": [
    "\"\"\"Set up test data.\"\"\"\n",
    "# Create sample data for testing\n",
    "np.random.seed(42)\n",
    "n_samples = 1000\n",
    "\n",
    "# Create synthetic data with bias\n",
    "sensitive_attr = np.random.choice([0, 1], size=n_samples, p=[0.7, 0.3])\n",
    "y_true = np.random.choice([0, 1], size=n_samples, p=[0.6, 0.4])\n",
    "\n",
    "# Create biased predictions (group 1 has higher positive rate)\n",
    "y_pred = np.zeros(n_samples)\n",
    "for i in range(n_samples):\n",
    "    if sensitive_attr[i] == 0:\n",
    "        y_pred[i] = np.random.choice([0, 1], p=[0.8, 0.2])\n",
    "    else:\n",
    "        y_pred[i] = np.random.choice([0, 1], p=[0.6, 0.4])\n",
    "\n",
    "# Create continuous scores\n",
    "y_scores = np.random.random(n_samples)\n",
    "y_scores[sensitive_attr == 1] += 0.2"
   ]
  },
  {
   "cell_type": "code",
   "execution_count": null,
   "id": "578a9d4d",
   "metadata": {},
   "outputs": [],
   "source": [
    "get_metric(\"demographic_parity\")(y_true, y_pred, sensitive_attr)"
   ]
  },
  {
   "cell_type": "code",
   "execution_count": null,
   "id": "1f276318",
   "metadata": {},
   "outputs": [],
   "source": [
    "def test_calculate_demographic_parity():\n",
    "    \"\"\"Test demographic parity calculation using Fairlearn.\"\"\"\n",
    "    demographic_parity = get_metric(\"demographic_parity\")\n",
    "    \n",
    "    # Test with biased data\n",
    "    result = demographic_parity(y_true, y_pred, )\n",
    "    \n",
    "    # Should detect bias (group 1 has higher positive rate)\n",
    "    self.assertGreater(result, 0.0)\n",
    "    self.assertLessEqual(result, 1.0)\n",
    "    \n",
    "    # Test with equal predictions\n",
    "    equal_pred = np.ones(self.n_samples)\n",
    "    result_equal = engine.calculate_demographic_parity(equal_pred, self.sensitive_attr)\n",
    "    self.assertEqual(result_equal, 0.0)"
   ]
  },
  {
   "cell_type": "code",
   "execution_count": null,
   "id": "131e1c69",
   "metadata": {},
   "outputs": [],
   "source": [
    "y_pred = (y_scores > 0.5).astype(int)\n",
    "selection_rate_difference(y_pred, y_pred, sensitive_features=sensitive_attr)"
   ]
  },
  {
   "cell_type": "code",
   "execution_count": null,
   "id": "92b8bf33",
   "metadata": {},
   "outputs": [],
   "source": [
    "bpc = get_metric(\"balance_positive_class\")(y_true, y_scores, protected_attributes=sensitive_attr)"
   ]
  },
  {
   "cell_type": "code",
   "execution_count": null,
   "id": "d3cda602",
   "metadata": {},
   "outputs": [],
   "source": [
    "bpc.overall"
   ]
  },
  {
   "cell_type": "markdown",
   "id": "0bf4515b",
   "metadata": {},
   "source": [
    "## Unit Tests"
   ]
  },
  {
   "cell_type": "code",
   "execution_count": 35,
   "id": "85b10aca",
   "metadata": {},
   "outputs": [
    {
     "data": {
      "text/plain": [
       "['.venv',\n",
       " 'src',\n",
       " '.gitignore',\n",
       " 'main.py',\n",
       " 'tests',\n",
       " 'configs',\n",
       " 'README.md',\n",
       " 'pyproject.toml',\n",
       " 'y_pred_no_seed.npy',\n",
       " '.python-version',\n",
       " 'uv.lock',\n",
       " 'notebooks',\n",
       " 'artifacts',\n",
       " 'Makefile',\n",
       " '.mypy_cache',\n",
       " 'requirements.txt',\n",
       " '.pytest_cache',\n",
       " '.env']"
      ]
     },
     "execution_count": 35,
     "metadata": {},
     "output_type": "execute_result"
    }
   ],
   "source": [
    "import os \n",
    "os.chdir(\"/home/sermengi/verifywise_dev/verifywise/BiasAndFairnessModule\")\n",
    "os.listdir()"
   ]
  },
  {
   "cell_type": "code",
   "execution_count": 36,
   "id": "12776795",
   "metadata": {},
   "outputs": [],
   "source": [
    "from src.metrics import *"
   ]
  },
  {
   "cell_type": "code",
   "execution_count": 37,
   "id": "18d74bad",
   "metadata": {},
   "outputs": [],
   "source": [
    "from tests.base_test_metrics import BaseMetricsTestCase\n",
    "base_metrics_test_case = BaseMetricsTestCase()\n",
    "base_metrics_test_case.setUp()"
   ]
  },
  {
   "cell_type": "code",
   "execution_count": 38,
   "id": "3f02ba5e",
   "metadata": {},
   "outputs": [],
   "source": [
    "y_true = base_metrics_test_case.y_true\n",
    "y_pred = base_metrics_test_case.y_pred\n",
    "y_scores = base_metrics_test_case.y_scores\n",
    "y_protected_attr = base_metrics_test_case.protected_attributes\n",
    "y_legitimate_attr = base_metrics_test_case.legitimate_attributes"
   ]
  },
  {
   "cell_type": "code",
   "execution_count": 43,
   "id": "3fe6cf32",
   "metadata": {},
   "outputs": [],
   "source": [
    "bnc = balance_negative_class(y_true=y_true, y_pred_proba=y_scores, protected_attributes=y_protected_attr)"
   ]
  },
  {
   "cell_type": "code",
   "execution_count": 44,
   "id": "05a0206f",
   "metadata": {},
   "outputs": [
    {
     "data": {
      "text/plain": [
       "np.float64(0.6840727903151731)"
      ]
     },
     "execution_count": 44,
     "metadata": {},
     "output_type": "execute_result"
    }
   ],
   "source": [
    "bnc.ratio()"
   ]
  },
  {
   "cell_type": "code",
   "execution_count": 45,
   "id": "785e35f7",
   "metadata": {},
   "outputs": [
    {
     "data": {
      "text/plain": [
       "np.float64(0.18545292723894335)"
      ]
     },
     "execution_count": 45,
     "metadata": {},
     "output_type": "execute_result"
    }
   ],
   "source": [
    "bnc.difference()"
   ]
  },
  {
   "cell_type": "code",
   "execution_count": null,
   "id": "5caa827b",
   "metadata": {},
   "outputs": [],
   "source": []
  }
 ],
 "metadata": {
  "kernelspec": {
   "display_name": ".venv",
   "language": "python",
   "name": "python3"
  },
  "language_info": {
   "codemirror_mode": {
    "name": "ipython",
    "version": 3
   },
   "file_extension": ".py",
   "mimetype": "text/x-python",
   "name": "python",
   "nbconvert_exporter": "python",
   "pygments_lexer": "ipython3",
   "version": "3.12.3"
  }
 },
 "nbformat": 4,
 "nbformat_minor": 5
}
